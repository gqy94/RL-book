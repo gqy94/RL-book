{
 "cells": [
  {
   "cell_type": "markdown",
   "metadata": {},
   "source": [
    "## Assignment 6"
   ]
  },
  {
   "cell_type": "markdown",
   "metadata": {},
   "source": [
    "#### Problem 1"
   ]
  },
  {
   "cell_type": "markdown",
   "metadata": {},
   "source": [
    "- Expected Utility $\\mathbb E[U(x)]$ \n",
    "\n",
    "  $\\mathbb E[U(x)]$\n",
    "\n",
    "  $=\\mathbb E[x-\\frac{\\alpha x^{2}}{2}] $ \n",
    "\n",
    "  $=\\mathbb E[x] - \\frac{\\alpha}{2} \\cdot \\mathbb E[x^{2}] $\n",
    "\n",
    "  $=\\mu - \\frac{\\alpha}{2}(\\mu^{2} + \\sigma ^{2})$\n",
    "\n",
    "- Certainty-Equivalent Value $x_{CE}$ \n",
    "\n",
    "  $\\text{Let} \\ y = U(x)=x-\\frac{\\alpha x^{2}}{2} $\n",
    "\n",
    "  $y = - \\frac{\\alpha}{2}(x^{2}-\\frac{2}{\\alpha}x)$\n",
    "\n",
    "  $y = - \\frac{\\alpha}{2}(x-\\frac{1}{\\alpha})^{2}+\\frac{1}{2\\alpha}$\n",
    "\n",
    "  $-\\frac{2}{\\alpha}y+\\frac{1}{a^{2}} = (x-\\frac{1}{\\alpha})^{2}$\n",
    "\n",
    "  $U^{-1}(y) = \\frac{1}{\\alpha}\\pm \\sqrt{-\\frac{2}{\\alpha}y+\\frac{1}{\\alpha^2}}$\n",
    "\n",
    "  $x_{CE} = U^{-1}(\\mathbb E[U(x)])$\n",
    "\n",
    "  $x_{CE}= \\frac{1}{\\alpha} \\pm \\frac{1}{\\alpha}\\sqrt{-2\\alpha \\mu +\\alpha^{2}(\\mu^{2}+\\sigma^{2})+1} $\n",
    "\n",
    "- Absolute Risk-Premium $\\pi_{A}$\n",
    "\n",
    "  $\\pi_{A}=\\mathbb E[x] - x_{CE}$\n",
    "\n",
    "  $\\pi_{A}=\\mu -\\frac{1}{\\alpha} \\pm \\frac{1}{\\alpha}\\sqrt{-2\\alpha \\mu +\\alpha^{2}(\\mu^{2}+\\sigma^{2})+1}$"
   ]
  },
  {
   "cell_type": "markdown",
   "metadata": {},
   "source": [
    "Let $\\pi$ denote the portion of 1 million to allocate to risky asset, and $1-\\pi$ of 1 million to riskless asset.  \n",
    "Portfolio Wealth $W \\sim \\mathcal N(1+r+\\pi(\\mu-r), \\pi^{2}\\sigma^{2})$\n",
    "\n",
    "$\\mathbb E[U(W)]=\\mathbb E[W-\\frac{\\alpha W^{2}}{2}]$\n",
    "\n",
    "$=\\mathbb E[W] - \\frac{\\alpha}{2} \\cdot \\mathbb E[W^{2}]$ \n",
    "\n",
    "$=1+r+\\pi(\\mu-r) - \\frac{\\alpha}{2}(\\pi^{2}\\sigma^{2}+(1+r+\\pi(\\mu-r))^{2})$\n",
    "\n",
    "$(\\mu-r)-\\frac{\\alpha}{2}(2\\sigma^{2}\\pi+2(\\mu -r)^{2}\\pi+2(\\mu-r)(1+r)) =0$\n",
    "\n",
    "$(\\mu-r)(1-\\alpha - \\alpha r)=\\alpha(\\sigma^{2}+(\\mu-r)^{2})\\pi$\n",
    "\n",
    "$\\pi^{*}=\\frac{(\\mu-r)(1-\\alpha - \\alpha r)}{\\alpha(\\sigma^{2}+(\\mu-r)^{2})}$"
   ]
  },
  {
   "cell_type": "markdown",
   "metadata": {},
   "source": [
    "#### Problem 2"
   ]
  },
  {
   "cell_type": "markdown",
   "metadata": {},
   "source": [
    "For $U(x)$ = log$(x)$,\n",
    "\n",
    "$\\mathbb E[U(x)]= \\mu$\n",
    "\n",
    "$x_{CE} = e^{\\mu}$\n",
    "\n",
    "For wealth $W_{t}$, we know that\n",
    "log$W \\sim \\mathcal N(r+\\pi(\\mu-r)-\\frac{\\pi^{2}\\sigma^{2}}{2},\\pi^{2}\\sigma^{2})$\n",
    "\n",
    "In order to maximize $\\mathbb E[U(x)]$, we can maximize $x_{CE}$,  \n",
    "which in turn amounts to maximize: $r+\\pi(\\mu-r)-\\frac{\\pi^{2}\\sigma^{2}}{2}$  \n",
    "So optimal investment fraction in risky asset  \n",
    "$$\\pi_{*} = \\frac{\\mu-r}{\\sigma^{2}}$$"
   ]
  },
  {
   "cell_type": "markdown",
   "metadata": {},
   "source": [
    "#### Problem 3"
   ]
  },
  {
   "cell_type": "markdown",
   "metadata": {},
   "source": [
    "- two outcomes for wealth $W$ at the end of your single bet of $f\\cdot W_{0}$: \n",
    "\n",
    " - $f\\cdot W_{0}\\cdot(1+\\alpha)+(1-f)\\cdot W_{0} =f\\cdot W_{0}\\cdot \\alpha + W_{0} = W_{0}(1+f\\cdot \\alpha)$  \n",
    " \n",
    " - $f\\cdot W_{0}\\cdot(1-\\beta)+(1-f)\\cdot W_{0} =-f\\cdot W_{0}\\cdot \\beta + W_{0}=W_{0}(1-f\\cdot \\beta)$  \n",
    " \n",
    "- two outcomes for log (Utility) of $W$:\n",
    "\n",
    " - $\\text{log}(W_{0}(1+f\\cdot \\alpha))= \\text{log}(W_{0})+\\text{log}(1+f\\cdot \\alpha)$\n",
    " \n",
    " - $\\text{log}(W_{0}(1-f\\cdot \\beta)) = \\text{log}(W_{0})+\\text{log}(1-f\\cdot \\beta)$\n",
    " \n",
    "- $\\mathbb E[\\text{log} (W)]= (\\text{log}(W_{0})+\\text{log}(1+f\\cdot \\alpha))\\cdot p + (\\text{log}(W_{0})+\\text{log}(1-f\\cdot \\beta))\\cdot (1-p)$\n",
    "\n",
    "  $=\\text{log}(W_{0})+\\text{log}(1+f\\cdot \\alpha)\\cdot p+\\text{log}(1-f\\cdot \\beta)\\cdot (1-p)$\n",
    "\n",
    "- $\\frac{\\partial \\mathbb E[\\text{log}(W)]}{\\partial f}=\n",
    "\\frac{p\\cdot \\alpha}{1+f\\cdot\\alpha } + \\frac{-(1-p)\\cdot \\beta}{1-f\\cdot\\beta} $\n",
    "\n",
    "- Set this derivative to 0 to solve for $f^{*}$：\n",
    "\n",
    "  $\\frac{p\\cdot \\alpha}{1+f\\cdot\\alpha } = \\frac{(1-p)\\cdot \\beta}{1-f\\cdot\\beta}$\n",
    "  \n",
    "  $p\\alpha(1-f\\beta)=(1-p)\\beta(1+f\\alpha)$\n",
    "  \n",
    "  $p\\alpha-(1-p)\\beta=p\\alpha\\beta f+\\beta\\alpha-p\\alpha\\beta f$\n",
    "  \n",
    "  $f^{*}=\\frac{p\\alpha-(1-p)\\beta}{\\alpha\\beta}$"
   ]
  }
 ],
 "metadata": {
  "kernelspec": {
   "display_name": "Python 3",
   "language": "python",
   "name": "python3"
  },
  "language_info": {
   "codemirror_mode": {
    "name": "ipython",
    "version": 3
   },
   "file_extension": ".py",
   "mimetype": "text/x-python",
   "name": "python",
   "nbconvert_exporter": "python",
   "pygments_lexer": "ipython3",
   "version": "3.7.3"
  }
 },
 "nbformat": 4,
 "nbformat_minor": 4
}
