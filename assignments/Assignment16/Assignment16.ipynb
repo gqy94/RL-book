{
 "cells": [
  {
   "cell_type": "markdown",
   "metadata": {},
   "source": [
    "### Problem 3"
   ]
  },
  {
   "cell_type": "markdown",
   "metadata": {},
   "source": [
    "- $\\ \\ \\ \\text{log}\\pi(s,a;\\theta)$\n",
    "\n",
    "  $= \\text{log}\\frac{e^{\\phi(s,a)^{T}\\theta}}{\\sum_{b\\in A}e^{\\phi(s,b)^{T}\\theta}}$\n",
    "\n",
    "  $=\\phi(s,a)^{T}\\theta - \\text{log}(\\sum_{b\\in A}e^{\\phi(s,b)^{T}\\theta})$\n",
    "\n",
    "\n",
    "  $\\bigtriangledown_{\\theta}\\text{log}\\pi(s,a;\\theta)$\n",
    "\n",
    "  $= \\phi(s,a) - \\frac{\\sum_{b\\in A}(e^{\\phi(s,b)^{T}\\theta})\\phi(s,b)}{\\sum_{b\\in A}e^{\\phi(s,b)^{T}\\theta}}$\n",
    "\n",
    "  $= \\phi(s,a) - \\sum_{b\\in A}\\frac{(e^{\\phi(s,b)^{T}\\theta})}{\\sum_{b\\in A}e^{\\phi(s,b)^{T}\\theta}}\\cdot \\phi(s,b)$"
   ]
  },
  {
   "cell_type": "markdown",
   "metadata": {},
   "source": [
    "- Set $Q(s,a;w) = w^{T}\\cdot \\bigtriangledown_{\\theta}\\text{log}\\pi(s,a;\\theta)$\n",
    "\n",
    "    $Q(s,a;w) = w^{T}\\phi(s,a) - w^{T}\\sum_{b\\in A}\\frac{(e^{\\phi(s,b)^{T}\\theta})}{\\sum_{b\\in A}e^{\\phi(s,b)^{T}\\theta}}\\cdot \\phi(s,b)$"
   ]
  },
  {
   "cell_type": "markdown",
   "metadata": {},
   "source": [
    "- $\\ \\ \\ \\sum_{a\\in A} \\pi(s,a;\\theta)\\cdot Q(s,a,;w)$\n",
    "\n",
    "  $=\\sum_{a\\in A} \\pi(s,a;\\theta)(w^{T}\\phi(s,a) - w^{T}\\sum_{b\\in A}\\frac{(e^{\\phi(s,b)^{T}\\theta})}{\\sum_{b\\in A}e^{\\phi(s,b)^{T}\\theta}}\\cdot \\phi(s,b))$\n",
    "\n",
    "  $=\\sum_{a\\in A}\\frac{e^{\\phi(s,a)^{T}\\theta}}{\\sum_{b\\in A}e^{\\phi(s,b)^{T}\\theta}}w^{T}\\phi(s,a) - \\sum_{a\\in A}\\sum_{b\\in A}\\frac{(e^{\\phi(s,a)^{T}\\theta})(e^{\\phi(s,b)^{T}\\theta})}{(\\sum_{b\\in A}e^{\\phi(s,b)^{T}\\theta})^{2}}\\cdot w^{T} \\phi(s,b) $\n",
    "\n",
    "  $=0$"
   ]
  }
 ],
 "metadata": {
  "kernelspec": {
   "display_name": "Python 3",
   "language": "python",
   "name": "python3"
  },
  "language_info": {
   "codemirror_mode": {
    "name": "ipython",
    "version": 3
   },
   "file_extension": ".py",
   "mimetype": "text/x-python",
   "name": "python",
   "nbconvert_exporter": "python",
   "pygments_lexer": "ipython3",
   "version": "3.7.3"
  }
 },
 "nbformat": 4,
 "nbformat_minor": 4
}
