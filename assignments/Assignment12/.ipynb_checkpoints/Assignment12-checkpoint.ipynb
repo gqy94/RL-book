{
 "cells": [
  {
   "cell_type": "markdown",
   "metadata": {},
   "source": [
    "Prove $G_{t}-V(S_{t})=\\sum_{u=t}^{T-1}\\gamma^{u-t}\\cdot(R_{u+1}+\\gamma\\cdot V(S_{u+1})-V(S_{u}))$"
   ]
  },
  {
   "cell_type": "markdown",
   "metadata": {},
   "source": [
    "$G_{t}=\\sum_{i=t+1}^{T-1}\\gamma^{i-t-1}\\cdot R_{i}$  "
   ]
  },
  {
   "cell_type": "markdown",
   "metadata": {},
   "source": [
    "$\\sum_{u=t}^{T-1}\\gamma^{u-t}\\cdot(R_{u+1}+\\gamma\\cdot V(S_{u+1})-V(S_{u})) \\\\\n",
    "=(R_{t+1}+\\gamma \\cdot V(S_{t+1}) - V(S_{t}))+\\gamma\\cdot(R_{t+2}+\\gamma \\cdot V(S_{t+2}) - V(S_{t+1}))+\\text{...}+\\gamma^{T-t-1}(R_{T}+\\gamma \\cdot V(S_{T}) - V(S_{T-1}))\n",
    "= (R_{t+1}+\\gamma R_{t+2}+\\text{...}+\\gamma^{T-t-1} R_{T})-V(S_{t})+\\gamma V(S_{t+1})-\\gamma V(S_{t+1})+\\gamma^{2} V(S_{t+2})-\\text{...}+\\gamma^{T-t}V(S_{T}) \\\\\n",
    "= (R_{t+1}+\\gamma R_{t+2}+\\text{...}+\\gamma^{T-t-1}R_{T})-V(S_{t})+\\gamma^{T-t}V(S_{T})\\\\\n",
    "=G_{t}-V(S_{t})$  \n",
    "as $\\gamma^{T-t}V(S_{T})\\rightarrow 0$"
   ]
  }
 ],
 "metadata": {
  "kernelspec": {
   "display_name": "Python 3",
   "language": "python",
   "name": "python3"
  },
  "language_info": {
   "codemirror_mode": {
    "name": "ipython",
    "version": 3
   },
   "file_extension": ".py",
   "mimetype": "text/x-python",
   "name": "python",
   "nbconvert_exporter": "python",
   "pygments_lexer": "ipython3",
   "version": "3.7.3"
  }
 },
 "nbformat": 4,
 "nbformat_minor": 4
}
