{
 "cells": [
  {
   "cell_type": "code",
   "execution_count": 1,
   "metadata": {},
   "outputs": [],
   "source": [
    "import itertools\n",
    "import numpy as np\n",
    "import pandas as pd\n",
    "import matplotlib.pyplot as plt\n",
    "\n",
    "from typing import (Iterable, Callable, Mapping, TypeVar, \n",
    "                    List, Tuple, Optional,Sequence, Iterator)\n",
    "from rl.markov_process import MarkovRewardProcess\n",
    "from rl.markov_decision_process import Policy,MarkovDecisionProcess,FinitePolicy\n",
    "from rl.function_approx import Tabular, FunctionApprox\n",
    "from rl.dynamic_programming import policy_iteration_result,value_iteration_result\n",
    "from rl.iterate import last,iterate\n",
    "from rl.approximate_dynamic_programming import evaluate_mrp, value_iteration\n",
    "\n",
    "from rl.chapter3.simple_inventory_mdp_cap import SimpleInventoryMDPCap, InventoryState\n",
    "from rl.chapter7.asset_alloc_discrete import AssetAllocDiscrete \n",
    "from rl.monte_carlo import mc_prediction, mc_control\n",
    "from rl.td import td_prediction\n",
    "\n",
    "from rl.distribution import Constant,Distribution,Choose"
   ]
  },
  {
   "cell_type": "code",
   "execution_count": null,
   "metadata": {},
   "outputs": [],
   "source": [
    "S = TypeVar('S')\n",
    "A = TypeVar('S')\n",
    "\n",
    "def policy_iteration(\n",
    "    mdp: MarkovDecisionProcess[S, A],\n",
    "    γ: float,\n",
    "    approx_0: FunctionApprox[S],\n",
    "    non_terminal: Distribution[S],\n",
    "    num_state_samples: int\n",
    ") -> Iterator[FunctionApprox[S]]:\n",
    "    def update(v: Tuple[FunctionApprox[S], Policy[S, A]]\n",
    "              ) -> Tuple[FunctionApprox[S], Policy[S, A]]:\n",
    "        vf, pi = vf_policy\n",
    "        mrp: MarkovRewardProcess[S] = mdp.apply_policy(pi)\n",
    "        policy_vf: FunctionApprox[S] = last(evaluate_mrp(mrp, γ, vf, \n",
    "                                                         non_terminal, num_state_samples))    \n",
    "        improved_pi: Policy[S, A] = greedy_policy_from_vf(mdp,policy_vf,γ)\n",
    "        return policy_vf, improved_pi\n",
    "    pi_0 = policy_from_v(approx_0,mdp)\n",
    "    return iterate(update, (approx_0, pi_0))"
   ]
  }
 ],
 "metadata": {
  "kernelspec": {
   "display_name": "Python 3",
   "language": "python",
   "name": "python3"
  },
  "language_info": {
   "codemirror_mode": {
    "name": "ipython",
    "version": 3
   },
   "file_extension": ".py",
   "mimetype": "text/x-python",
   "name": "python",
   "nbconvert_exporter": "python",
   "pygments_lexer": "ipython3",
   "version": "3.7.3"
  }
 },
 "nbformat": 4,
 "nbformat_minor": 4
}
