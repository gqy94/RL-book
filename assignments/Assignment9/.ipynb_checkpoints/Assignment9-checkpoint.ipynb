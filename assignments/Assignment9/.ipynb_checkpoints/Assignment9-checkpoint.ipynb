{
 "cells": [
  {
   "cell_type": "markdown",
   "metadata": {},
   "source": [
    "### Thereotical Problem:"
   ]
  },
  {
   "cell_type": "markdown",
   "metadata": {},
   "source": [
    "$V_{t}^{\\pi}((P_{t},R_{t})) = \\mathbb E(\\sum_{i=t}^{T-1}r_{i}|(t,P_{t},R_{t}))\\\\\n",
    "V_{t}^{\\pi}((P_{t},R_{t})) = \\mathbb E(\\sum_{i=t}^{T-1}N_{i}P_{i}(1-\\beta N_{i}-\\theta X_{i})|(t,P_{t},R_{t}))$"
   ]
  },
  {
   "cell_type": "markdown",
   "metadata": {},
   "source": [
    "$V_{t}^{*}((P_{t},R_{t}))=\\underset{\\pi}{max}\\{V_{t}^{\\pi}((P_{t},R_{t}))\\} \\\\\n",
    "V_{t}^{*}((P_{t},R_{t}))=\\underset{N_{t}}{max}\\{N_{t}P_{t}(1-\\beta N_{i}-\\theta X_{i})+\\mathbb E(V_{t+1}^{*}((P_{t},R_{t})))\\}$"
   ]
  },
  {
   "cell_type": "markdown",
   "metadata": {},
   "source": [
    "$V_{T-1}^{*}((P_{T-1},R_{T-1}))=R_{T-1}P_{T-1}(1-\\beta N_{T-1}-\\theta X_{T-1}) \\\\\n",
    "V_{T-2}^{*}((P_{T-2},R_{T-2}))=\\underset{N_{T-2}}{max}\\{N_{T-2}P_{T-2}(1-\\beta N_{T-2}-\\theta X_{T-2})+\\mathbb E(V_{T-1}^{*}((P_{T-1},R_{T-1})))\\} $"
   ]
  },
  {
   "cell_type": "markdown",
   "metadata": {},
   "source": [
    "$V_{T-1}^{*}((P_{T-1},R_{T-1}))=R_{T-1}P_{T-1}(1-\\beta N_{T-1}-\\theta X_{T-1})  \\\\\n",
    "V_{T-1}^{*}((P_{T-1},R_{T-1}))=(R_{T-2}-N_{T-2})P_{T-1}(1-\\beta (R_{T-2}-N_{T-2})-\\theta (\\rho X_{T-2}-\\eta N_{T-2}))\\\\\n",
    "V_{T-1}^{*}((P_{T-1},R_{T-1}))=P_{T-1}((R_{T-2}-N_{T-2})-\\beta (R_{T-2}-N_{T-2})^{2}-\\theta (R_{T-2}-N_{T-2})(\\rho X_{T-2}-\\eta N_{T-2}))\n",
    "$"
   ]
  },
  {
   "cell_type": "markdown",
   "metadata": {},
   "source": [
    "$\\mathbb E(V_{T-1}^{*}((P_{T-1},R_{T-1})))=P_{T-2}\\mathbb E(e^{Z_{T-2}})((R_{T-2}-N_{T-2})-\\beta (R_{T-2}-N_{T-2})^{2}-\\theta (R_{T-2}-N_{T-2})\\rho X_{T-2})\\\\\n",
    "\\mathbb E(V_{T-1}^{*}((P_{T-1},R_{T-1})))=P_{T-2}e^{\\mu_{Z}+\\frac{1}{2}\\sigma_{Z}^{2}}((R_{T-2}-N_{T-2})-\\beta (R_{T-2}-N_{T-2})^{2}-\\theta (R_{T-2}-N_{T-2})\\rho X_{T-2})\n",
    "$"
   ]
  }
 ],
 "metadata": {
  "kernelspec": {
   "display_name": "Python 3",
   "language": "python",
   "name": "python3"
  },
  "language_info": {
   "codemirror_mode": {
    "name": "ipython",
    "version": 3
   },
   "file_extension": ".py",
   "mimetype": "text/x-python",
   "name": "python",
   "nbconvert_exporter": "python",
   "pygments_lexer": "ipython3",
   "version": "3.7.3"
  }
 },
 "nbformat": 4,
 "nbformat_minor": 4
}
