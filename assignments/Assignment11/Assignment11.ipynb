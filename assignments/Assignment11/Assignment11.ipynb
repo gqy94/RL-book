{
 "cells": [
  {
   "cell_type": "code",
   "execution_count": 10,
   "metadata": {},
   "outputs": [],
   "source": [
    "import itertools\n",
    "import numpy as np\n",
    "from typing import Iterable, Callable, Mapping, TypeVar, List, Dict\n",
    "import rl.markov_process as mp\n",
    "from rl.returns import returns\n",
    "from rl.function_approx import Tabular\n",
    "from rl.iterate import last\n",
    "from collections import defaultdict\n",
    "from rl.monte_carlo import mc_prediction\n",
    "from rl.td import td_prediction\n",
    "from rl.chapter2.simple_inventory_mrp import SimpleInventoryMRPFinite, InventoryState\n",
    "from rl.distribution import Constant"
   ]
  },
  {
   "cell_type": "code",
   "execution_count": 67,
   "metadata": {},
   "outputs": [],
   "source": [
    "S = TypeVar('S')\n",
    "\n",
    "def tabular_mc_prediction(traces: Iterable[Iterable[mp.ReturnStep[S]]],\n",
    "                  count_to_weight_func:Callable[[int], float],\n",
    "                  gamma: float,\n",
    "                  tolerance: float = 1e-6) -> List[Dict[S,float]]:\n",
    "    episodes = (returns(trace, gamma, tolerance) for trace in traces)\n",
    "    vf_list: List[Mapping[S,float]] = []\n",
    "    occur: Dict[S,float] = defaultdict(int)\n",
    "    for epi in episodes:\n",
    "        if vf_list:\n",
    "            vn = vf_list[-1]\n",
    "        else:\n",
    "            vn: Dict[S,float] = defaultdict(int)\n",
    "        for si in epi:\n",
    "            occur[si.state]+=1\n",
    "            vn[si.state] = vn[si.state]+(si.return_\n",
    "                                         -vn[si.state])*count_to_weight_func(occur[si.state])\n",
    "        vf_list.append(vn)\n",
    "        \n",
    "    return(vf_list)  "
   ]
  },
  {
   "cell_type": "code",
   "execution_count": 68,
   "metadata": {},
   "outputs": [],
   "source": [
    "si_mrp = SimpleInventoryMRPFinite(\n",
    "    capacity = 2,\n",
    "    poisson_lambda = 1.0,\n",
    "    holding_cost = 1.0,\n",
    "    stockout_cost = 10.0)\n",
    "\n",
    "start_state = InventoryState(on_hand = 0, on_order = 0)\n",
    "samples = [list(itertools.islice(si_mrp.simulate_reward(Constant(start_state)),\n",
    "                                 1000)) for _ in range(100)]"
   ]
  },
  {
   "cell_type": "code",
   "execution_count": 69,
   "metadata": {},
   "outputs": [
    {
     "name": "stdout",
     "output_type": "stream",
     "text": [
      "{InventoryState(on_hand=0, on_order=0): -108.33831543184229, InventoryState(on_hand=0, on_order=2): -98.13087306461235, InventoryState(on_hand=1, on_order=0): -100.76881049885476, InventoryState(on_hand=0, on_order=1): -98.73014965964698, InventoryState(on_hand=1, on_order=1): -99.69178857203374, InventoryState(on_hand=2, on_order=0): -101.5532032548051}\n"
     ]
    }
   ],
   "source": [
    "mcp = last(mc_prediction(sample,Tabular(),0.9)).values_map\n",
    "print(mcp)"
   ]
  },
  {
   "cell_type": "code",
   "execution_count": 70,
   "metadata": {},
   "outputs": [
    {
     "name": "stdout",
     "output_type": "stream",
     "text": [
      "defaultdict(<class 'int'>, {InventoryState(on_hand=0, on_order=0): -108.33831543184242, InventoryState(on_hand=0, on_order=2): -98.13087306461223, InventoryState(on_hand=1, on_order=0): -100.76881049885482, InventoryState(on_hand=0, on_order=1): -98.7301496596479, InventoryState(on_hand=1, on_order=1): -99.69178857203383, InventoryState(on_hand=2, on_order=0): -101.55320325480523})\n"
     ]
    }
   ],
   "source": [
    "tabular_mcp = tabular_mc_prediction(sample, lambda n: 1./n, 0.9)[-1]\n",
    "print(tabular_mcp)"
   ]
  }
 ],
 "metadata": {
  "kernelspec": {
   "display_name": "Python 3",
   "language": "python",
   "name": "python3"
  },
  "language_info": {
   "codemirror_mode": {
    "name": "ipython",
    "version": 3
   },
   "file_extension": ".py",
   "mimetype": "text/x-python",
   "name": "python",
   "nbconvert_exporter": "python",
   "pygments_lexer": "ipython3",
   "version": "3.7.3"
  }
 },
 "nbformat": 4,
 "nbformat_minor": 2
}
