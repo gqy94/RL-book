{
 "cells": [
  {
   "cell_type": "markdown",
   "metadata": {},
   "source": [
    "## Problem 1"
   ]
  },
  {
   "cell_type": "markdown",
   "metadata": {},
   "source": [
    "We can specify states as a tuple $(t, c_{t}, l_{t}, w_{t}, s_{t})$, where  \n",
    "- $t$ is the date, $t\\leq T$\n",
    "- $x_{t}$ is the cash the bank has after selling stock but before borrowing from other banks and purchasing new stocks\n",
    "- $l_{t}$ is the liability owed to other banks\n",
    "- $w_{t}$ is the withdrawal requests we failed to fulfill \n",
    "- $s_{t}$ is the value of a single stock\n",
    "\n"
   ]
  },
  {
   "cell_type": "markdown",
   "metadata": {},
   "source": [
    "Reward on day $t$ for $t<T$ is 0, and reward on day $T$ is $U(c_{T}-l_{T})$, where $U(\\cdot)$ is the utility function."
   ]
  },
  {
   "cell_type": "markdown",
   "metadata": {},
   "source": [
    "The actions we need to make in this problem is to borrow $b_{t}$ amount of money and buy $i_{t}$ amount of investment on day $t$.  $b_{t}>0$ if we borrow, $b_{t}<0$ if we pay back some of liabilities. \n",
    "Since we have constraints on borrowing and investing, we need to further consider this:\n",
    "- We need to have $c_{t} \\geq K\\cdot cot(\\frac{\\pi \\cdot c}{2C})=c_{min}$\n",
    "- For $b_{t}$,\n",
    " - $l_{t}+b_{t}\\geq0$\n",
    " - $x_{t}+b_{t}\\geq c_{min}$\n",
    " - Combined: $b_{t}\\geq \\text{max}(-l_{t},c_{min}-x_{t})$\n",
    "- For $i_{t}$,\n",
    " - $x_{t}+b_{t}-i_{t}s_{t}\\geq c_{min}$\n",
    " - $x_{t}+b_{t}-c_{min}\\geq i_{t}s_{t}$\n",
    " - $\\frac{x_{t}+b_{t}-c_{min}}{s_{t}}\\geq i_{t}$\n",
    " - $0 \\leq i_{t} \\leq \\frac{x_{t}+b_{t}-c_{min}}{s_{t}}$\n",
    "\n",
    "So Action can be defined as $\\{(b_{t},i_{t})\\}$ with restrictions above  \n"
   ]
  },
  {
   "cell_type": "markdown",
   "metadata": {},
   "source": [
    "To define state transitions, we need to define deposit on day t as $d_{t}$.\n",
    "\n",
    "Then with probability 1, state will transit to  \n",
    "$x_{t+1} = \\text{max}(x_{t}+b{t}-i_{t}s_{t}-K\\cdot cot(\\frac{\\pi \\cdot \\text{min}(x_{t}+b{t}-i_{t}s_{t},C)}{2C})+d_{t+1}-w_{t}, 0) + b_{t}s_{t}$\n",
    "\n",
    "$l_{t+1}=(l_{t}+y_{t})(1+R)$\n",
    "\n",
    "$w_{t+1} = max(-(x_{t}+b{t}-i_{t}s_{t}-K\\cdot cot(\\frac{\\pi \\cdot \\text{min}(x_{t}+b{t}-i_{t}s_{t},C)}{2C})+d_{t+1}-w_{t},0)$"
   ]
  },
  {
   "cell_type": "markdown",
   "metadata": {},
   "source": [
    "I found it really hard to continue, as I don't know how stock price will change. "
   ]
  }
 ],
 "metadata": {
  "kernelspec": {
   "display_name": "Python 3",
   "language": "python",
   "name": "python3"
  },
  "language_info": {
   "codemirror_mode": {
    "name": "ipython",
    "version": 3
   },
   "file_extension": ".py",
   "mimetype": "text/x-python",
   "name": "python",
   "nbconvert_exporter": "python",
   "pygments_lexer": "ipython3",
   "version": "3.7.3"
  }
 },
 "nbformat": 4,
 "nbformat_minor": 4
}
