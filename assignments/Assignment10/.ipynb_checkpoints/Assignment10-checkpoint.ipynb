{
 "cells": [
  {
   "cell_type": "markdown",
   "metadata": {},
   "source": [
    "### Problem 1"
   ]
  },
  {
   "cell_type": "markdown",
   "metadata": {},
   "source": [
    "$S_{T} \\sim \\mathcal N(S_{t},\\sigma^{2}(T-t))$"
   ]
  },
  {
   "cell_type": "markdown",
   "metadata": {},
   "source": [
    "$\\ \\ \\ V(t,S_{t},W,I) \\\\\n",
    "= \\mathbb E[-e^{-\\gamma\\cdot(W+I\\cdot S_{T})}|(t,S_{t})] \\\\\n",
    "= -e^{-\\gamma W}\\mathbb E[-e^{-\\gamma\\cdot I\\cdot S_{T}}|(t,S_{t})]$"
   ]
  },
  {
   "cell_type": "markdown",
   "metadata": {},
   "source": [
    "$E[-e^{-\\gamma\\cdot I\\cdot S_{T}}|(t,S_{t})]=e^{-\\gamma I S_{t}+\\frac{\\gamma^{2}I^{2}\\sigma^{2}(T-t)}{2}}$"
   ]
  },
  {
   "cell_type": "markdown",
   "metadata": {},
   "source": [
    "$V(t,S_{t},W,I) \\\\ \n",
    "= -e^{-\\gamma W}e^{-\\gamma I\\cdot S_{t}+\\frac{\\gamma^{2}I^{2}\\sigma^{2}(T-t)}{2}} \\\\\n",
    "= -e^{-\\gamma (W+ I\\cdot S_{t})+\\frac{\\gamma^{2}I^{2}\\sigma^{2}(T-t)}{2}} \n",
    "$"
   ]
  },
  {
   "cell_type": "markdown",
   "metadata": {},
   "source": [
    "$V(t,S_{t},W-Q^{(b)}(t,S_{t},I),I+1)=V(t,S_{t},W,I) \\\\\n",
    "-e^{-\\gamma (W-Q^{(b)}(t,S_{t},I)+ (I+1)\\cdot S_{t})+\\frac{\\gamma^{2}(I+1)^{2}\\sigma^{2}(T-t)}{2}} =-e^{-\\gamma (W+ I\\cdot S_{t})+\\frac{\\gamma^{2}I^{2}\\sigma^{2}(T-t)}{2}}\\\\ \n",
    "-\\gamma (W-Q^{(b)}(t,S_{t},I)+ (I+1)\\cdot S_{t})+\\frac{\\gamma^{2}(I+1)^{2}\\sigma^{2}(T-t)}{2}=-\\gamma (W+ I\\cdot S_{t})+\\frac{\\gamma^{2}I^{2}\\sigma^{2}(T-t)}{2}\n",
    "$"
   ]
  },
  {
   "cell_type": "markdown",
   "metadata": {},
   "source": [
    "$\\gamma Q^{(b)}(t,S_{t},I) = \\gamma S_{t}+\\frac{\\gamma^{2}(-2I-1)\\sigma^{2}(T-t)}{2}\\\\\n",
    "Q^{(b)}(t,S_{t},I) = S_{t}-\\frac{\\gamma(2I+1)\\sigma^{2}(T-t)}{2}\n",
    "$"
   ]
  },
  {
   "cell_type": "markdown",
   "metadata": {},
   "source": [
    "Similarly,\n",
    "\n",
    "$V(t,S_{t},W+Q^{(a)}(t,S_{t},I),I-1)=V(t,S_{t},W,I)\\\\\n",
    "-\\gamma (W+Q^{(a)}(t,S_{t},I)+ (I-1)\\cdot S_{t})+\\frac{\\gamma^{2}(I-1)^{2}\\sigma^{2}(T-t)}{2}=-\\gamma (W+ I\\cdot S_{t})+\\frac{\\gamma^{2}I^{2}\\sigma^{2}(T-t)}{2}\\\\\n",
    "Q^{(a)}(t,S_{t},I) = S_{t}-\\frac{\\gamma(-2I+1)\\sigma^{2}(T-t)}{2}$\n"
   ]
  }
 ],
 "metadata": {
  "kernelspec": {
   "display_name": "Python 3",
   "language": "python",
   "name": "python3"
  },
  "language_info": {
   "codemirror_mode": {
    "name": "ipython",
    "version": 3
   },
   "file_extension": ".py",
   "mimetype": "text/x-python",
   "name": "python",
   "nbconvert_exporter": "python",
   "pygments_lexer": "ipython3",
   "version": "3.7.3"
  }
 },
 "nbformat": 4,
 "nbformat_minor": 4
}
