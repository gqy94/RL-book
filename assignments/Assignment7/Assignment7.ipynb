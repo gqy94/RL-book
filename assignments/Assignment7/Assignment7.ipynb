{
 "cells": [
  {
   "cell_type": "markdown",
   "metadata": {},
   "source": [
    "### Problem 3"
   ]
  },
  {
   "cell_type": "markdown",
   "metadata": {},
   "source": [
    "State can be represented as $\\mathcal S = \\{s\\}\\times\\{E,U\\}$, where  \n",
    "$s$ is current skill level,  \n",
    "$E$ represents Employed and $U$ represent unemployed"
   ]
  },
  {
   "cell_type": "markdown",
   "metadata": {},
   "source": [
    "Possible action is to determine the fraction $\\alpha$ of each day working. However, when unemployed, we cannot learn. So $A((s,E)) = \\{\\alpha\\}$, $A((s,U)) = \\{\\}$"
   ]
  },
  {
   "cell_type": "markdown",
   "metadata": {},
   "source": [
    "$P((s,E),\\alpha,(s',U))=p$ if $s'=(1-\\alpha)g(s)$\n",
    "\n",
    "$P((s,E),\\alpha,(s',E))=1-p$ if $s'=(1-\\alpha)g(s)$\n",
    "\n",
    "$P((s,U),\\alpha,(s',E))=h(s)$ if $s'=s\\cdot e^{-\\lambda}$\n",
    "\n",
    "$P((s,U),\\alpha,(s',U))=1-h(s)$ if $s'=s\\cdot e^{-\\lambda}$"
   ]
  },
  {
   "cell_type": "markdown",
   "metadata": {},
   "source": [
    "If our goal is to maximize Expected (Discounted) Lifetime Utility of Earnings,  \n",
    "Reward is $U(\\alpha \\cdot f(s))$ where $U(\\cdot)$ is the utility function."
   ]
  }
 ],
 "metadata": {
  "kernelspec": {
   "display_name": "Python 3",
   "language": "python",
   "name": "python3"
  },
  "language_info": {
   "codemirror_mode": {
    "name": "ipython",
    "version": 3
   },
   "file_extension": ".py",
   "mimetype": "text/x-python",
   "name": "python",
   "nbconvert_exporter": "python",
   "pygments_lexer": "ipython3",
   "version": "3.7.3"
  }
 },
 "nbformat": 4,
 "nbformat_minor": 4
}
