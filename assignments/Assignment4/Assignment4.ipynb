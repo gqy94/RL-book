{
 "cells": [
  {
   "cell_type": "markdown",
   "metadata": {},
   "source": [
    "## Assignment 4"
   ]
  },
  {
   "cell_type": "markdown",
   "metadata": {},
   "source": [
    "### Manual Value Iteration\n"
   ]
  },
  {
   "cell_type": "markdown",
   "metadata": {},
   "source": [
    "$q_{1}(s_{1},a_{1}) = 8 + 0.2\\cdot10+0.6\\cdot1 = 10.6$\n",
    "\n",
    "$q_{1}(s_{1},a_{2}) = 10 + 0.1\\cdot10+0.2\\cdot1 = 11.2$\n",
    "\n",
    "$v_{1}(s_{1})=max(q_{1}(s_{1},a_{1}),q_{1}(s_{1},a_{2}))=max(10.6,11.2)=11.2$\n",
    "\n",
    "$\\pi_{1}(s_{1})=a_{2}$\n",
    "\n",
    "$q_{1}(s_{2},a_{1}) = 1 + 0.3\\cdot10+0.3\\cdot1 = 4.3$\n",
    "\n",
    "$q_{1}(s_{2},a_{2}) = -1 + 0.5\\cdot10+0.3\\cdot1 = 4.3$\n",
    "\n",
    "$v_{1}(s_{2})=max(q_{1}(s_{1},a_{1}),q_{1}(s_{1},a_{2}))=max(4.3,4.3)=4.3$\n",
    "\n",
    "$\\pi_{1}(s_{2})=a_{1}(or \\ a_{2})$\n",
    "\n",
    "$q_{2}(s_{1},a_{1}) = 8 + 0.2\\cdot11.2+0.6\\cdot4.3 = 12.82$\n",
    "\n",
    "$q_{2}(s_{1},a_{2}) = 10 + 0.1\\cdot11.2+0.2\\cdot4.3 = 11.98$\n",
    "\n",
    "$v_{2}(s_{1})=max(q_{2}(s_{1},a_{1}),q_{2}(s_{1},a_{2}))=max(12.82,11.98)=12.82$\n",
    "\n",
    "$\\pi_{1}(s_{1})=a_{1}$\n",
    "\n",
    "$q_{2}(s_{2},a_{1}) = 1 + 0.3\\cdot11.2+0.3\\cdot4.3 = 5.65$\n",
    "\n",
    "$q_{2}(s_{2},a_{2}) = -1 + 0.5\\cdot11.2+0.3\\cdot4.3 = 5.89$\n",
    "\n",
    "$v_{2}(s_{2})=max(q_{2}(s_{1},a_{1}),q_{2}(s_{1},a_{2}))=max(5.65,5.89)=5.89$\n",
    "\n",
    "$\\pi_{2}(s_{2})=a_{2}$"
   ]
  },
  {
   "cell_type": "markdown",
   "metadata": {},
   "source": [
    "The difference between $q_{k}(s_{1},a_{1})$ and $q_{k}(s_{1},a_{2})$  \n",
    "$q_{k}(s_{1},a_{2})-q_{k}(s_{1},a_{2})\n",
    "=-2+0.1\\cdot v_{k-1}(s_{1})+0.4\\cdot v_{k-1}(s_{2})$  \n",
    "For $k=3, \\ 0.1\\cdot v_{k-1}(s_{1})+0.4\\cdot v_{k-1}(s_{2})=0.1\\cdot 12.82+0.4\\cdot 5.89>-2$.  \n",
    "From the pattern we can see that $v_{k}(\\cdot)$ is increasing, and for $k\\geqslant 3, \\ 0.1\\cdot v_{k-1}(s_{1})+0.4\\cdot v_{k-1}(s_{2})>-2$, which means $q_{1}(s_{1},a_{2})-q_{1}(s_{1},a_{2})>0$ for $k\\geqslant 3$.\n",
    "Thus we always choose $a_{1}$, i.e., $\\pi_{k}(s_{1})=a_{1}$ for $k\\geqslant 3$ \n",
    "\n",
    "The difference between $q_{1}(s_{2},a_{1})$ and $q_{1}(s_{2},a_{2})$ \n",
    "$q_{k}(s_{2},a_{2})-q_{k}(s_{1},a_{2})\n",
    "=2-0.2\\cdot v_{k-1}(s_{1})$  \n",
    "For $k=3, \\ 0.2\\cdot v_{k-1}(s_{1})=0.2\\cdot 12.82 = 2.564 > 2$.  \n",
    "From the pattern we can see that $v_{k}(\\cdot)$ is increasing, and for $k\\geqslant 3, \\ 0.2\\cdot v_{k-1}(s_{1})> 2$, which means $q_{1}(s_{1},a_{2})-q_{1}(s_{1},a_{2})<0$ for $k\\geqslant 3$.\n",
    "Thus we always choose $a_{2}$, i.e., $\\pi_{k}(s_{2})=a_{2}$ for $k\\geqslant 3$ "
   ]
  },
  {
   "cell_type": "markdown",
   "metadata": {},
   "source": [
    "### Frog Croaking revisited:"
   ]
  },
  {
   "cell_type": "code",
   "execution_count": 1,
   "metadata": {},
   "outputs": [],
   "source": [
    "import operator\n",
    "from typing import Mapping, Dict, Tuple\n",
    "from rl.markov_decision_process import FiniteMarkovDecisionProcess,FinitePolicy\n",
    "from rl.distribution import Categorical, Constant\n",
    "from rl.markov_decision_process import StateActionMapping\n",
    "from rl.dynamic_programming import value_iteration_result\n",
    "from pprint import pprint"
   ]
  },
  {
   "cell_type": "code",
   "execution_count": 2,
   "metadata": {},
   "outputs": [],
   "source": [
    "LilypadMapping = StateActionMapping[int, str]\n",
    "class Lilypad(FiniteMarkovDecisionProcess[int,str]):\n",
    "    def __init__(self, n):\n",
    "        self.n: int = n\n",
    "        super().__init__(self.get_action_transition_reward_map())\n",
    "    \n",
    "    def get_action_transition_reward_map(self)->LilypadMapping:\n",
    "        d: Dict[int, Dict[str, Categorical[Tuple[int,int]]]] = {}\n",
    "        states: list = []\n",
    "        for i in range(self.n+1):\n",
    "            states.append(i)\n",
    "                \n",
    "        actions: Tuple[str,str] = {'A','B'}\n",
    "        for i in range(self.n+1):\n",
    "            d1: Dict[str,Categorical[Tuple[int,int]]]={}\n",
    "            if (i == 0) or (i == self.n):\n",
    "                d[i] = None\n",
    "            else:\n",
    "                if i+1 == self.n:\n",
    "                    reward = 1\n",
    "                else:\n",
    "                    reward = 0\n",
    "                probs_dict_A: Dict[Tuple[int, int], float] =\\\n",
    "                    {(i-1, 0): i/self.n}\n",
    "                probs_dict_A[(i+1,reward)]=(self.n-i)/self.n\n",
    "                d1['A'] = Categorical(probs_dict_A)\n",
    "                \n",
    "                probs_dict_B: Dict[Tuple[int, int], float] =\\\n",
    "                    {(j,0): 1/self.n for j in range(self.n) if j!=i }\n",
    "                probs_dict_B[(self.n,1)]=1/self.n\n",
    "                d1['B'] = Categorical(probs_dict_B)\n",
    "                d[i]=d1\n",
    "        return d"
   ]
  },
  {
   "cell_type": "code",
   "execution_count": 8,
   "metadata": {},
   "outputs": [],
   "source": [
    "'''\n",
    "Altering value_iteration function to make it track number of iterations\n",
    "'''\n",
    "import numpy as np\n",
    "import operator\n",
    "from typing import Mapping, Iterator, TypeVar, Tuple, Dict\n",
    "from rl.iterate import converged, iterate\n",
    "from rl.markov_decision_process import (FiniteMarkovDecisionProcess,\n",
    "                                        FiniteMarkovRewardProcess,\n",
    "                                        FinitePolicy)\n",
    "from rl.distribution import FiniteDistribution, Categorical, Constant, Choose\n",
    "from rl.dynamic_programming import almost_equal_vfs,greedy_policy_from_vf\n",
    "\n",
    "A = TypeVar('A')\n",
    "S = TypeVar('S')\n",
    "\n",
    "DEFAULT_TOLERANCE = 1e-5\n",
    "\n",
    "# A representation of a value function for a finite MDP with states of\n",
    "# type S\n",
    "V = Mapping[S, float]\n",
    "\n",
    "def value_iteration(\n",
    "    mdp: FiniteMarkovDecisionProcess[S, A],\n",
    "    gamma: float,\n",
    "    it_count: list #adding it_count to track number of iterations\n",
    ") -> Iterator[V[S]]:\n",
    "    '''Calculate the value function (V*) of the given MDP by applying the\n",
    "    update function repeatedly until the values converge.\n",
    "    '''\n",
    "    def update(v: V[S]) -> V[S]:\n",
    "        it_count[0]+=1\n",
    "        return {s: max(mdp.mapping[s][a].expectation(\n",
    "            lambda s_r: s_r[1] + gamma * v.get(s_r[0], 0.)\n",
    "        ) for a in mdp.actions(s)) for s in v}\n",
    "\n",
    "    v_0: V[S] = {s: 0.0 for s in mdp.non_terminal_states}\n",
    "    return iterate(update, v_0)\n",
    "\n",
    "def value_iteration_result(\n",
    "    mdp: FiniteMarkovDecisionProcess[S, A],\n",
    "    gamma: float,\n",
    "    it_count: list\n",
    ") -> Tuple[V[S], FinitePolicy[S, A]]:\n",
    "    opt_vf: V[S] = converged(\n",
    "        value_iteration(mdp, gamma,it_count),\n",
    "        done=almost_equal_vfs\n",
    "    )\n",
    "    opt_policy: FinitePolicy[S, A] = greedy_policy_from_vf(\n",
    "        mdp,\n",
    "        opt_vf,\n",
    "        gamma\n",
    "    )\n",
    "    return opt_vf, opt_policy"
   ]
  },
  {
   "cell_type": "code",
   "execution_count": 11,
   "metadata": {},
   "outputs": [
    {
     "name": "stdout",
     "output_type": "stream",
     "text": [
      "MDP Value Iteration Optimal Value Function\n",
      "--------------\n",
      "{1: 0.5714132790741482, 2: 0.7142665988426853}\n",
      "MDP Value Iteration Optimal Policy\n",
      "--------------\n",
      "For State 1:\n",
      "  Do Action B with Probability 1.000\n",
      "For State 2:\n",
      "  Do Action A with Probability 1.000\n",
      "\n",
      "It takes 15 iterations for value iteration to converge for n = 3\n",
      "\n"
     ]
    }
   ],
   "source": [
    "user_gamma = 1.\n",
    "n = 3\n",
    "lp_mdp: FiniteMarkovDecisionProcess[int,int] = Lilypad(n = n)\n",
    "    \n",
    "it_count:list = [0]\n",
    "\n",
    "opt_vf_vi, opt_policy_vi = value_iteration_result(lp_mdp, gamma=user_gamma, it_count=it_count)\n",
    "    \n",
    "print(\"MDP Value Iteration Optimal Value Function\")\n",
    "print(\"--------------\")\n",
    "pprint(opt_vf_vi)\n",
    "print(\"MDP Value Iteration Optimal Policy\")\n",
    "print(\"--------------\")\n",
    "print(opt_policy_vi)\n",
    "print('It takes', it_count[0],'iterations for value iteration to converge for n =',n)\n",
    "print()"
   ]
  },
  {
   "cell_type": "code",
   "execution_count": 23,
   "metadata": {},
   "outputs": [
    {
     "name": "stdout",
     "output_type": "stream",
     "text": [
      "It takes 15 iterations for value iteration to converge for n = 3\n",
      "It takes 40 iterations for value iteration to converge for n = 4\n",
      "It takes 88 iterations for value iteration to converge for n = 5\n",
      "It takes 172 iterations for value iteration to converge for n = 6\n",
      "It takes 319 iterations for value iteration to converge for n = 7\n",
      "It takes 566 iterations for value iteration to converge for n = 8\n",
      "It takes 972 iterations for value iteration to converge for n = 9\n"
     ]
    }
   ],
   "source": [
    "num_it = []\n",
    "num_det = []\n",
    "for n in range (3,10):\n",
    "    lp_mdp: FiniteMarkovDecisionProcess[int,int] = Lilypad(n = n)\n",
    "    it_count:list = [0]\n",
    "    opt_vf_vi, opt_policy_vi = value_iteration_result(lp_mdp, gamma=user_gamma, it_count=it_count)\n",
    "    num_it.append(it_count[0])\n",
    "    print('It takes', it_count[0],'iterations for value iteration to converge for n =',n)\n",
    "    \n",
    "    num_det.append(2**(n-1))"
   ]
  },
  {
   "cell_type": "code",
   "execution_count": 28,
   "metadata": {},
   "outputs": [
    {
     "data": {
      "text/plain": [
       "<matplotlib.legend.Legend at 0x11edcf278>"
      ]
     },
     "execution_count": 28,
     "metadata": {},
     "output_type": "execute_result"
    },
    {
     "data": {
      "image/png": "[encoded data removed]",
      "text/plain": [
       "<Figure size 432x288 with 1 Axes>"
      ]
     },
     "metadata": {
      "needs_background": "light"
     },
     "output_type": "display_data"
    }
   ],
   "source": [
    "import matplotlib.pyplot as plt\n",
    "x_ = np.arange(3, 10, 1)\n",
    "plt.plot(x_,num_it,label=\"Value Iteration\")\n",
    "plt.legend()\n",
    "plt.plot(x_,num_det,label=\"Deterministic Policy\")\n",
    "plt.legend()"
   ]
  },
  {
   "cell_type": "markdown",
   "metadata": {},
   "source": [
    "### Job-Hopping and Wages-Utility-Maximization"
   ]
  },
  {
   "cell_type": "markdown",
   "metadata": {},
   "source": [
    "The state space $\\mathcal S = \\{E, U\\} \\times \\{i \\ | \\ 0\\leqslant i \\leqslant  n\\}$, where $E$ stands for employed and $U$ stands for unemployed, and $i$ is the index of the job.\n",
    "\n",
    "We can accept or decline a job only when unemployed. When we're employed, we can only continue with the job. So we can denote the action space as $\\mathcal A((i,E)) = \\{A\\}$ and $\\mathcal A((i,U))=\\{A,D\\}$, where $A$ stands for accepting the job and $U$ stands for declining the job.\n",
    "\n",
    "The state transition probabilities  \n",
    "$Pr[(i',E) | (i,E),A] = 1-\\alpha $ for $i'=i$  \n",
    "$Pr[(i',E) | (i,U),A] = 1-\\alpha $ for $i'=i$  \n",
    "$Pr[(i',U) | (i,U),A] = \\alpha \\cdot p_{i'} $ for $1\\leqslant i' \\leqslant n$  \n",
    "$Pr[(i',U) | (i,E),A] = \\alpha \\cdot p_{i'} $ for $1\\leqslant i' \\leqslant n$  \n",
    "$Pr[(i',U) | (i,U),D] = p_{i'} $  \n",
    "$Pr[(\\cdot,\\cdot) | (\\cdot, \\cdot), \\cdot] = 0$ Otherwise\n",
    "\n",
    "The reward functions  \n",
    "$R((i,E),A) = U(w_{i})$ for $1 \\leqslant i \\leqslant n$  \n",
    "$R((i,U),A) = U(w_{i})$ for $1 \\leqslant i \\leqslant n$  \n",
    "$R((i,U),D) = U(w_{0})$ for $1 \\leqslant i \\leqslant n$\n"
   ]
  }
 ],
 "metadata": {
  "kernelspec": {
   "display_name": "Python 3",
   "language": "python",
   "name": "python3"
  },
  "language_info": {
   "codemirror_mode": {
    "name": "ipython",
    "version": 3
   },
   "file_extension": ".py",
   "mimetype": "text/x-python",
   "name": "python",
   "nbconvert_exporter": "python",
   "pygments_lexer": "ipython3",
   "version": "3.7.3"
  }
 },
 "nbformat": 4,
 "nbformat_minor": 4
}
