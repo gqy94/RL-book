{
 "cells": [
  {
   "cell_type": "markdown",
   "metadata": {},
   "source": [
    "## Assignment 3"
   ]
  },
  {
   "cell_type": "markdown",
   "metadata": {},
   "source": [
    "### 4 MDP Policy Equations with deterministic policy:"
   ]
  },
  {
   "cell_type": "markdown",
   "metadata": {},
   "source": [
    "$V^{\\pi _{D}}(s) = Q^{\\pi _{D}}(s,\\pi (s)) $ for all $s \\in S$  \n",
    "$Q^{\\pi _{D}}(s,a) = R^{a}_{s}+\\gamma\\cdot\\sum_{s'\\in S}P_{s,s'}^{a}\\cdot V^{\\pi _{D}}(s') $for all $s \\in S, a \\in A$  \n",
    "$V^{\\pi _{D}}(s)= R^{\\pi_{D}(s)}_{s}+\\gamma\\cdot\\sum_{s'\\in S}P_{s,s'}^{\\pi_{D}(s)}\\cdot V^{\\pi _{D}}(s') $for all $s \\in S$  \n",
    "$Q^{\\pi _{D}}(s,a) = R^{a}_{s}+\\gamma\\cdot\\sum_{s'\\in S}P_{s,s'}^{a}\\cdot Q^{\\pi _{D}}(s',\\pi_{D}(s') $for all $s \\in S, a \\in A$  "
   ]
  },
  {
   "cell_type": "markdown",
   "metadata": {},
   "source": [
    "### Lilypads:\n"
   ]
  },
  {
   "cell_type": "markdown",
   "metadata": {},
   "source": [
    "The state space $\\mathcal S=\\{0,1,...,n\\}=\\{i|0\\leqslant i\\leqslant n\\}$. 0 and n are terminating states.  \n",
    "The action space $\\mathcal A=\\{A,B\\}$  \n",
    "Transition functions are:  \n",
    "$ Pr[i'|i,A]$ for $1\\leqslant i\\leqslant n-1 =\n",
    "\\begin{cases}\n",
    "\\frac{i}{n} \\ \\text{for} \\ i'=i-1\\\\\n",
    "\\frac{n-i}{n} \\ \\text{for} \\ i=i+1\n",
    "\\end{cases}\n",
    "$  \n",
    "$ Pr[i'|i,B]$ for $1\\leqslant i\\leqslant n-1 = \\frac{1}{n}$ for $0\\leqslant i'\\leqslant n$ and $i'\\neq i$  \n",
    "Reward function:  \n",
    "$\\mathcal R(i,a,i') =\n",
    "\\begin{cases}\n",
    "1 \\ \\text{for} \\ i'=n \\\\\n",
    "0 \\ \\text{otherwise} \n",
    "\\end{cases}\n",
    "$"
   ]
  },
  {
   "cell_type": "code",
   "execution_count": 1,
   "metadata": {},
   "outputs": [],
   "source": [
    "import operator\n",
    "from typing import Mapping, Dict, Tuple\n",
    "from rl.markov_decision_process import FiniteMarkovDecisionProcess,FinitePolicy\n",
    "from rl.distribution import Categorical, Constant\n",
    "from rl.markov_decision_process import StateActionMapping\n",
    "from rl.dynamic_programming import value_iteration_result\n",
    "from pprint import pprint"
   ]
  },
  {
   "cell_type": "code",
   "execution_count": 2,
   "metadata": {},
   "outputs": [],
   "source": [
    "LilypadMapping = StateActionMapping[int, str]\n",
    "class Lilypad(FiniteMarkovDecisionProcess[int,str]):\n",
    "    def __init__(self, n):\n",
    "        self.n: int = n\n",
    "        super().__init__(self.get_action_transition_reward_map())\n",
    "    \n",
    "    def get_action_transition_reward_map(self)->LilypadMapping:\n",
    "        d: Dict[int, Dict[str, Categorical[Tuple[int,int]]]] = {}\n",
    "        states: list = []\n",
    "        for i in range(self.n+1):\n",
    "            states.append(i)\n",
    "                \n",
    "        actions: Tuple[str,str] = {'A','B'}\n",
    "        for i in range(self.n+1):\n",
    "            d1: Dict[str,Categorical[Tuple[int,int]]]={}\n",
    "            if (i == 0) or (i == self.n):\n",
    "                d[i] = None\n",
    "            else:\n",
    "                if i+1 == self.n:\n",
    "                    reward = 1\n",
    "                else:\n",
    "                    reward = 0\n",
    "                probs_dict_A: Dict[Tuple[int, int], float] =\\\n",
    "                    {(i-1, 0): i/self.n}\n",
    "                probs_dict_A[(i+1,reward)]=(self.n-i)/self.n\n",
    "                d1['A'] = Categorical(probs_dict_A)\n",
    "                \n",
    "                probs_dict_B: Dict[Tuple[int, int], float] =\\\n",
    "                    {(j,0): 1/self.n for j in range(self.n) if j!=i }\n",
    "                probs_dict_B[(self.n,1)]=1/self.n\n",
    "                d1['B'] = Categorical(probs_dict_B)\n",
    "                d[i]=d1\n",
    "        return d\n"
   ]
  },
  {
   "cell_type": "code",
   "execution_count": 3,
   "metadata": {},
   "outputs": [],
   "source": [
    "def getPolicies(n):\n",
    "    binary_list = []\n",
    "    for i in range(2**(n-1)):\n",
    "        binary = str(bin(i))[2:]\n",
    "        binary_list.append(list('0'*(n-1-len(binary))+binary))\n",
    "    policies=[]\n",
    "    for item in binary_list:\n",
    "        policy1:list=[None]\n",
    "        policy2:list=['A' if i == '1' else 'B' for i in item]\n",
    "        policies.append(policy1+policy2+policy1)\n",
    "    return policies"
   ]
  },
  {
   "cell_type": "code",
   "execution_count": 4,
   "metadata": {},
   "outputs": [],
   "source": [
    "import numpy as np\n",
    "from rl.markov_process import FiniteMarkovProcess, FiniteMarkovRewardProcess\n",
    "\n",
    "def getOptimal(n):\n",
    "    lp_mdp: FiniteMarkovDecisionProcess[int,int] = Lilypad(n = n)\n",
    "    policies = getPolicies(n)\n",
    "    opt_val = np.zeros(n-1)\n",
    "    opt_police = None\n",
    "    for policy in policies:\n",
    "        curr_policy: FinitePolicy[int, int] = FinitePolicy({j: Constant(policy[j]) for j in range(n+1)})\n",
    "        implied_mrp: FiniteMarkovRewardProcess[int] =\\\n",
    "            lp_mdp.apply_finite_policy(curr_policy)\n",
    "        curr_val:np.ndarray = implied_mrp.get_value_function_vec(gamma=1.)\n",
    "        if  np.all(curr_val>opt_val):\n",
    "            opt_val = curr_val\n",
    "            opt_policy = curr_policy\n",
    "    \n",
    "    return opt_val,opt_policy         "
   ]
  },
  {
   "cell_type": "code",
   "execution_count": 5,
   "metadata": {},
   "outputs": [
    {
     "data": {
      "text/plain": [
       "(array([0.57142857, 0.71428571]),\n",
       " For State 0:\n",
       "   Do Action None with Probability 1.000\n",
       " For State 1:\n",
       "   Do Action B with Probability 1.000\n",
       " For State 2:\n",
       "   Do Action A with Probability 1.000\n",
       " For State 3:\n",
       "   Do Action None with Probability 1.000)"
      ]
     },
     "execution_count": 5,
     "metadata": {},
     "output_type": "execute_result"
    }
   ],
   "source": [
    "getOptimal(n=3)"
   ]
  },
  {
   "cell_type": "code",
   "execution_count": 6,
   "metadata": {},
   "outputs": [
    {
     "data": {
      "text/plain": [
       "(array([0.65957447, 0.70212766, 0.72340426, 0.74468085, 0.78723404]),\n",
       " For State 0:\n",
       "   Do Action None with Probability 1.000\n",
       " For State 1:\n",
       "   Do Action B with Probability 1.000\n",
       " For State 2:\n",
       "   Do Action A with Probability 1.000\n",
       " For State 3:\n",
       "   Do Action A with Probability 1.000\n",
       " For State 4:\n",
       "   Do Action A with Probability 1.000\n",
       " For State 5:\n",
       "   Do Action A with Probability 1.000\n",
       " For State 6:\n",
       "   Do Action None with Probability 1.000)"
      ]
     },
     "execution_count": 6,
     "metadata": {},
     "output_type": "execute_result"
    }
   ],
   "source": [
    "getOptimal(n=6)"
   ]
  },
  {
   "cell_type": "code",
   "execution_count": 7,
   "metadata": {},
   "outputs": [
    {
     "data": {
      "text/plain": [
       "(array([0.67567568, 0.70523649, 0.71368243, 0.71790541, 0.72128378,\n",
       "        0.72550676, 0.7339527 , 0.76351351]),\n",
       " For State 0:\n",
       "   Do Action None with Probability 1.000\n",
       " For State 1:\n",
       "   Do Action B with Probability 1.000\n",
       " For State 2:\n",
       "   Do Action A with Probability 1.000\n",
       " For State 3:\n",
       "   Do Action A with Probability 1.000\n",
       " For State 4:\n",
       "   Do Action A with Probability 1.000\n",
       " For State 5:\n",
       "   Do Action A with Probability 1.000\n",
       " For State 6:\n",
       "   Do Action A with Probability 1.000\n",
       " For State 7:\n",
       "   Do Action A with Probability 1.000\n",
       " For State 8:\n",
       "   Do Action A with Probability 1.000\n",
       " For State 9:\n",
       "   Do Action None with Probability 1.000)"
      ]
     },
     "execution_count": 7,
     "metadata": {},
     "output_type": "execute_result"
    }
   ],
   "source": [
    "getOptimal(n=9)"
   ]
  },
  {
   "cell_type": "code",
   "execution_count": 8,
   "metadata": {},
   "outputs": [
    {
     "data": {
      "image/png": "[encoded data removed]",
      "text/plain": [
       "<Figure size 432x288 with 1 Axes>"
      ]
     },
     "metadata": {
      "needs_background": "light"
     },
     "output_type": "display_data"
    }
   ],
   "source": [
    "import matplotlib.pyplot as plt\n",
    "for i in [3,6,9]:\n",
    "    opt_val, opt_policy=getOptimal(i)\n",
    "    x = np.arange(1, i, 1)\n",
    "    plt.plot(x,opt_val)"
   ]
  }
 ],
 "metadata": {
  "kernelspec": {
   "display_name": "Python 3",
   "language": "python",
   "name": "python3"
  },
  "language_info": {
   "codemirror_mode": {
    "name": "ipython",
    "version": 3
   },
   "file_extension": ".py",
   "mimetype": "text/x-python",
   "name": "python",
   "nbconvert_exporter": "python",
   "pygments_lexer": "ipython3",
   "version": "3.7.3"
  }
 },
 "nbformat": 4,
 "nbformat_minor": 4
}
