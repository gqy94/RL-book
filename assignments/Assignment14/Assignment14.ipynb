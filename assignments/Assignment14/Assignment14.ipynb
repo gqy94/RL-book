{
 "cells": [
  {
   "cell_type": "code",
   "execution_count": 7,
   "metadata": {},
   "outputs": [],
   "source": [
    "from typing import Callable, Iterable, Iterator, TypeVar, Tuple, Mapping, Sequence\n",
    "import rl.markov_process as mp\n",
    "import numpy as np"
   ]
  },
  {
   "cell_type": "code",
   "execution_count": 8,
   "metadata": {},
   "outputs": [],
   "source": [
    "S = TypeVar('S')\n",
    "\n",
    "def LSTD(transitions: Iterable[mp.TransitionStep[S]],\n",
    "         feature_func: Sequence[Callable[[S], float]],\n",
    "         m: int,\n",
    "         gamma: float) -> Mapping[S, float]:\n",
    "    A = np.random.rand(m, m)\n",
    "    b = np.zeros((m,1))\n",
    "    v:Mapping[S,float]={}\n",
    "    for trans in transitions:\n",
    "        feature_state = np.array([f(trans.state) for f in feature_func])\n",
    "        feature_state = np.reshape(feature_state,(m,1))\n",
    "        feature_next_state = np.array([f(trans.next_state) for f in feature_func]) \n",
    "        feature_next_state = np.reshape(feature_next_state,(m,1))\n",
    "        A += np.dot(feature_state,(feature_state - gamma*feature_next_state).T)\n",
    "        b += feature_state*trans.reward\n",
    "        w = np.dot(np.linalg.inv(A),b)\n",
    "        for i in v.keys():\n",
    "            feature_state = np.array([f(i) for f in feature_functions])\n",
    "            feature_state = np.reshapre(feature_state,(m,1))\n",
    "            v[trans.state] = np.dot(feature_state.T, w)\n",
    "    return v"
   ]
  }
 ],
 "metadata": {
  "kernelspec": {
   "display_name": "Python 3",
   "language": "python",
   "name": "python3"
  },
  "language_info": {
   "codemirror_mode": {
    "name": "ipython",
    "version": 3
   },
   "file_extension": ".py",
   "mimetype": "text/x-python",
   "name": "python",
   "nbconvert_exporter": "python",
   "pygments_lexer": "ipython3",
   "version": "3.7.3"
  }
 },
 "nbformat": 4,
 "nbformat_minor": 4
}
